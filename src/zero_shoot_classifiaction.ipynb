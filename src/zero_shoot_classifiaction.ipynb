{
 "cells": [
  {
   "cell_type": "code",
   "execution_count": null,
   "metadata": {},
   "outputs": [
    {
     "data": {
      "application/vnd.microsoft.datawrangler.viewer.v0+json": {
       "columns": [
        {
         "name": "index",
         "rawType": "int64",
         "type": "integer"
        },
        {
         "name": "categories",
         "rawType": "object",
         "type": "string"
        },
        {
         "name": "count",
         "rawType": "int64",
         "type": "integer"
        }
       ],
       "conversionMethod": "pd.DataFrame",
       "ref": "00b246b3-f8a3-43eb-a3cc-2c4903a931b7",
       "rows": [
        [
         "0",
         "Fiction",
         "2111"
        ],
        [
         "1",
         "Juvenile Fiction",
         "390"
        ],
        [
         "2",
         "Biography & Autobiography",
         "311"
        ],
        [
         "3",
         "History",
         "207"
        ],
        [
         "4",
         "Literary Criticism",
         "124"
        ],
        [
         "5",
         "Philosophy",
         "117"
        ],
        [
         "6",
         "Religion",
         "117"
        ],
        [
         "7",
         "Comics & Graphic Novels",
         "116"
        ],
        [
         "8",
         "Drama",
         "86"
        ],
        [
         "9",
         "Juvenile Nonfiction",
         "57"
        ],
        [
         "10",
         "Science",
         "56"
        ],
        [
         "11",
         "Poetry",
         "51"
        ],
        [
         "12",
         "Literary Collections",
         "50"
        ],
        [
         "13",
         "Business & Economics",
         "49"
        ],
        [
         "14",
         "Social Science",
         "48"
        ],
        [
         "15",
         "Performing Arts",
         "40"
        ],
        [
         "16",
         "Cooking",
         "35"
        ],
        [
         "17",
         "Psychology",
         "33"
        ],
        [
         "18",
         "Travel",
         "32"
        ],
        [
         "19",
         "Art",
         "32"
        ],
        [
         "20",
         "Body, Mind & Spirit",
         "32"
        ],
        [
         "21",
         "Political Science",
         "30"
        ],
        [
         "22",
         "Health & Fitness",
         "28"
        ],
        [
         "23",
         "Self-Help",
         "28"
        ],
        [
         "24",
         "Computers",
         "28"
        ],
        [
         "25",
         "Family & Relationships",
         "27"
        ],
        [
         "26",
         "Language Arts & Disciplines",
         "23"
        ],
        [
         "27",
         "Humor",
         "23"
        ],
        [
         "28",
         "Medical",
         "19"
        ],
        [
         "29",
         "Nature",
         "19"
        ],
        [
         "30",
         "Children's stories",
         "18"
        ],
        [
         "31",
         "Education",
         "17"
        ],
        [
         "32",
         "Music",
         "16"
        ],
        [
         "33",
         "Games",
         "16"
        ],
        [
         "34",
         "Adventure stories",
         "15"
        ],
        [
         "35",
         "Detective and mystery stories",
         "14"
        ],
        [
         "36",
         "Fantasy fiction",
         "13"
        ],
        [
         "37",
         "English fiction",
         "13"
        ],
        [
         "38",
         "Sports & Recreation",
         "12"
        ],
        [
         "39",
         "True Crime",
         "11"
        ],
        [
         "40",
         "American fiction",
         "10"
        ],
        [
         "41",
         "Law",
         "10"
        ],
        [
         "42",
         "Photography",
         "10"
        ],
        [
         "43",
         "Architecture",
         "10"
        ],
        [
         "44",
         "Foreign Language Study",
         "9"
        ],
        [
         "45",
         "Reference",
         "9"
        ],
        [
         "46",
         "Science fiction",
         "8"
        ],
        [
         "47",
         "Young Adult Fiction",
         "8"
        ],
        [
         "48",
         "Americans",
         "8"
        ],
        [
         "49",
         "Pets",
         "7"
        ]
       ],
       "shape": {
        "columns": 2,
        "rows": 479
       }
      },
      "text/html": [
       "<div>\n",
       "<style scoped>\n",
       "    .dataframe tbody tr th:only-of-type {\n",
       "        vertical-align: middle;\n",
       "    }\n",
       "\n",
       "    .dataframe tbody tr th {\n",
       "        vertical-align: top;\n",
       "    }\n",
       "\n",
       "    .dataframe thead th {\n",
       "        text-align: right;\n",
       "    }\n",
       "</style>\n",
       "<table border=\"1\" class=\"dataframe\">\n",
       "  <thead>\n",
       "    <tr style=\"text-align: right;\">\n",
       "      <th></th>\n",
       "      <th>categories</th>\n",
       "      <th>count</th>\n",
       "    </tr>\n",
       "  </thead>\n",
       "  <tbody>\n",
       "    <tr>\n",
       "      <th>0</th>\n",
       "      <td>Fiction</td>\n",
       "      <td>2111</td>\n",
       "    </tr>\n",
       "    <tr>\n",
       "      <th>1</th>\n",
       "      <td>Juvenile Fiction</td>\n",
       "      <td>390</td>\n",
       "    </tr>\n",
       "    <tr>\n",
       "      <th>2</th>\n",
       "      <td>Biography &amp; Autobiography</td>\n",
       "      <td>311</td>\n",
       "    </tr>\n",
       "    <tr>\n",
       "      <th>3</th>\n",
       "      <td>History</td>\n",
       "      <td>207</td>\n",
       "    </tr>\n",
       "    <tr>\n",
       "      <th>4</th>\n",
       "      <td>Literary Criticism</td>\n",
       "      <td>124</td>\n",
       "    </tr>\n",
       "    <tr>\n",
       "      <th>...</th>\n",
       "      <td>...</td>\n",
       "      <td>...</td>\n",
       "    </tr>\n",
       "    <tr>\n",
       "      <th>474</th>\n",
       "      <td>Conspiracies</td>\n",
       "      <td>1</td>\n",
       "    </tr>\n",
       "    <tr>\n",
       "      <th>475</th>\n",
       "      <td>Brothers and sisters</td>\n",
       "      <td>1</td>\n",
       "    </tr>\n",
       "    <tr>\n",
       "      <th>476</th>\n",
       "      <td>Rock musicians</td>\n",
       "      <td>1</td>\n",
       "    </tr>\n",
       "    <tr>\n",
       "      <th>477</th>\n",
       "      <td>Community life</td>\n",
       "      <td>1</td>\n",
       "    </tr>\n",
       "    <tr>\n",
       "      <th>478</th>\n",
       "      <td>Indic fiction (English)</td>\n",
       "      <td>1</td>\n",
       "    </tr>\n",
       "  </tbody>\n",
       "</table>\n",
       "<p>479 rows × 2 columns</p>\n",
       "</div>"
      ],
      "text/plain": [
       "                    categories  count\n",
       "0                      Fiction   2111\n",
       "1             Juvenile Fiction    390\n",
       "2    Biography & Autobiography    311\n",
       "3                      History    207\n",
       "4           Literary Criticism    124\n",
       "..                         ...    ...\n",
       "474               Conspiracies      1\n",
       "475       Brothers and sisters      1\n",
       "476             Rock musicians      1\n",
       "477             Community life      1\n",
       "478    Indic fiction (English)      1\n",
       "\n",
       "[479 rows x 2 columns]"
      ]
     },
     "execution_count": 1,
     "metadata": {},
     "output_type": "execute_result"
    }
   ],
   "source": [
    "import pandas as pd\n",
    "\n",
    "data = pd.read_csv(\"../data/books_emotions.csv\")\n",
    "data.categories.value_counts().reset_index()"
   ]
  },
  {
   "cell_type": "code",
   "execution_count": 3,
   "metadata": {},
   "outputs": [
    {
     "data": {
      "application/vnd.microsoft.datawrangler.viewer.v0+json": {
       "columns": [
        {
         "name": "index",
         "rawType": "int64",
         "type": "integer"
        },
        {
         "name": "categories",
         "rawType": "object",
         "type": "string"
        },
        {
         "name": "count",
         "rawType": "int64",
         "type": "integer"
        }
       ],
       "conversionMethod": "pd.DataFrame",
       "ref": "5f465a8b-b4bd-4373-9b76-374890cb31fb",
       "rows": [
        [
         "0",
         "Fiction",
         "2648"
        ],
        [
         "1",
         "Literary",
         "443"
        ],
        [
         "2",
         "Science",
         "392"
        ],
        [
         "3",
         "Intertainment",
         "358"
        ],
        [
         "4",
         "Philosophy",
         "355"
        ],
        [
         "5",
         "Biography",
         "311"
        ],
        [
         "6",
         "Art",
         "104"
        ],
        [
         "7",
         "Mystery",
         "21"
        ],
        [
         "8",
         "Reference",
         "9"
        ],
        [
         "9",
         "Americans",
         "8"
        ],
        [
         "10",
         "Life on other planets",
         "7"
        ],
        [
         "11",
         "City and town life",
         "7"
        ],
        [
         "12",
         "Pets",
         "7"
        ],
        [
         "13",
         "American literature",
         "6"
        ],
        [
         "14",
         "Authors, American",
         "6"
        ],
        [
         "15",
         "Fantasy",
         "6"
        ],
        [
         "16",
         "England",
         "6"
        ],
        [
         "17",
         "London (England)",
         "5"
        ],
        [
         "18",
         "Families",
         "5"
        ],
        [
         "19",
         "Crafts & Hobbies",
         "5"
        ],
        [
         "20",
         "Gardening",
         "5"
        ],
        [
         "21",
         "Mathematics",
         "5"
        ],
        [
         "22",
         "Discworld (Imaginary place)",
         "5"
        ],
        [
         "23",
         "Adultery",
         "5"
        ],
        [
         "24",
         "Conduct of life",
         "4"
        ],
        [
         "25",
         "Design",
         "4"
        ],
        [
         "26",
         "British",
         "4"
        ],
        [
         "27",
         "Boston (Mass.)",
         "4"
        ],
        [
         "28",
         "Baggins, Frodo (Fictitious character)",
         "4"
        ],
        [
         "29",
         "Study Aids",
         "4"
        ],
        [
         "30",
         "Graphic novels",
         "4"
        ],
        [
         "31",
         "Great Britain",
         "4"
        ],
        [
         "32",
         "Cosmology",
         "4"
        ],
        [
         "33",
         "Bail bond agents",
         "4"
        ],
        [
         "34",
         "Authors",
         "3"
        ],
        [
         "35",
         "Christian life",
         "3"
        ],
        [
         "36",
         "Technology & Engineering",
         "3"
        ],
        [
         "37",
         "Dreams",
         "3"
        ],
        [
         "38",
         "Bibles",
         "3"
        ],
        [
         "39",
         "BIOGRAPHY & AUTOBIOGRAPHY",
         "3"
        ],
        [
         "40",
         "African Americans",
         "3"
        ],
        [
         "41",
         "Antiques & Collectibles",
         "3"
        ],
        [
         "42",
         "Death",
         "2"
        ],
        [
         "43",
         "House & Home",
         "2"
        ],
        [
         "44",
         "Horror tales",
         "2"
        ],
        [
         "45",
         "Comic books, strips, etc",
         "2"
        ],
        [
         "46",
         "Authors, English",
         "2"
        ],
        [
         "47",
         "Alcoholics",
         "2"
        ],
        [
         "48",
         "Horror tales, American",
         "2"
        ],
        [
         "49",
         "Christmas",
         "2"
        ]
       ],
       "shape": {
        "columns": 2,
        "rows": 376
       }
      },
      "text/html": [
       "<div>\n",
       "<style scoped>\n",
       "    .dataframe tbody tr th:only-of-type {\n",
       "        vertical-align: middle;\n",
       "    }\n",
       "\n",
       "    .dataframe tbody tr th {\n",
       "        vertical-align: top;\n",
       "    }\n",
       "\n",
       "    .dataframe thead th {\n",
       "        text-align: right;\n",
       "    }\n",
       "</style>\n",
       "<table border=\"1\" class=\"dataframe\">\n",
       "  <thead>\n",
       "    <tr style=\"text-align: right;\">\n",
       "      <th></th>\n",
       "      <th>categories</th>\n",
       "      <th>count</th>\n",
       "    </tr>\n",
       "  </thead>\n",
       "  <tbody>\n",
       "    <tr>\n",
       "      <th>0</th>\n",
       "      <td>Fiction</td>\n",
       "      <td>2648</td>\n",
       "    </tr>\n",
       "    <tr>\n",
       "      <th>1</th>\n",
       "      <td>Literary</td>\n",
       "      <td>443</td>\n",
       "    </tr>\n",
       "    <tr>\n",
       "      <th>2</th>\n",
       "      <td>Science</td>\n",
       "      <td>392</td>\n",
       "    </tr>\n",
       "    <tr>\n",
       "      <th>3</th>\n",
       "      <td>Intertainment</td>\n",
       "      <td>358</td>\n",
       "    </tr>\n",
       "    <tr>\n",
       "      <th>4</th>\n",
       "      <td>Philosophy</td>\n",
       "      <td>355</td>\n",
       "    </tr>\n",
       "    <tr>\n",
       "      <th>...</th>\n",
       "      <td>...</td>\n",
       "      <td>...</td>\n",
       "    </tr>\n",
       "    <tr>\n",
       "      <th>371</th>\n",
       "      <td>Authors, Canadian</td>\n",
       "      <td>1</td>\n",
       "    </tr>\n",
       "    <tr>\n",
       "      <th>372</th>\n",
       "      <td>Poets, Chilean</td>\n",
       "      <td>1</td>\n",
       "    </tr>\n",
       "    <tr>\n",
       "      <th>373</th>\n",
       "      <td>Zero (The number)</td>\n",
       "      <td>1</td>\n",
       "    </tr>\n",
       "    <tr>\n",
       "      <th>374</th>\n",
       "      <td>Babytime resource</td>\n",
       "      <td>1</td>\n",
       "    </tr>\n",
       "    <tr>\n",
       "      <th>375</th>\n",
       "      <td>Napoleonic Wars, 1800-1815</td>\n",
       "      <td>1</td>\n",
       "    </tr>\n",
       "  </tbody>\n",
       "</table>\n",
       "<p>376 rows × 2 columns</p>\n",
       "</div>"
      ],
      "text/plain": [
       "                     categories  count\n",
       "0                       Fiction   2648\n",
       "1                      Literary    443\n",
       "2                       Science    392\n",
       "3                 Intertainment    358\n",
       "4                    Philosophy    355\n",
       "..                          ...    ...\n",
       "371           Authors, Canadian      1\n",
       "372              Poets, Chilean      1\n",
       "373           Zero (The number)      1\n",
       "374           Babytime resource      1\n",
       "375  Napoleonic Wars, 1800-1815      1\n",
       "\n",
       "[376 rows x 2 columns]"
      ]
     },
     "execution_count": 3,
     "metadata": {},
     "output_type": "execute_result"
    }
   ],
   "source": [
    "def map_category(cat):\n",
    "    if not isinstance(cat, str):\n",
    "        return cat\n",
    "    lower_cat = cat.lower()\n",
    "    if (\n",
    "        \"literary criticism\" in lower_cat\n",
    "        or \"poetry\" in lower_cat\n",
    "        or \"Literary Collections\" in cat\n",
    "        or \"History\" in cat\n",
    "    ):\n",
    "        return \"Literary\"\n",
    "    if \"comics & graphic novels\" in lower_cat:\n",
    "        return \"Comedy\"\n",
    "    if (\n",
    "        \"religion\" in lower_cat\n",
    "        or \"philosophy\" in lower_cat\n",
    "        or \"Psychology\" in cat\n",
    "        or \"Family & Relationships\" in cat\n",
    "        or \"Self-Help\" in cat\n",
    "        or \"Humor\" in cat\n",
    "    ):\n",
    "        return \"Philosophy\"\n",
    "    if \"fiction\" in lower_cat:\n",
    "        return \"Fiction\"\n",
    "    if \"Biography & Autobiography\" in cat:\n",
    "        return \"Biography\"\n",
    "    if (\n",
    "        \"Business & Economics\" in cat\n",
    "        or \"science\" in lower_cat\n",
    "        or \"Computers\" in cat\n",
    "        or \"Education\" in cat\n",
    "        or \"Medical\" in cat\n",
    "        or \"Nature\" in cat\n",
    "        or \"Cooking\" in cat\n",
    "        or \"Body, Mind & Spirit\" in cat\n",
    "        or \"Health & Fitness\" in cat\n",
    "        or \"Law\" in cat\n",
    "        or \"Foreign Language Study\" in cat\n",
    "        or \"Architecture\" in cat\n",
    "    ):\n",
    "        return \"Science\"\n",
    "    if \"art\" in lower_cat:\n",
    "        return \"Art\"\n",
    "    if \"mystery\" in lower_cat:\n",
    "        return \"Mystery\"\n",
    "    if (\n",
    "        \"stories\" in lower_cat\n",
    "        or \"Travel\" in cat\n",
    "        or \"Games\" in cat\n",
    "        or \"Music\" in cat\n",
    "        or \"Sports & Recreation\" in cat\n",
    "        or \"True Crime\" in cat\n",
    "        or \"Comedy\" in cat\n",
    "        or \"Photography\" in cat\n",
    "        or \"Drama\" in cat\n",
    "    ):\n",
    "        return \"Intertainment\"\n",
    "    return cat\n",
    "\n",
    "\n",
    "data[\"categories\"] = data[\"categories\"].apply(map_category)\n",
    "data[\"categories\"].value_counts().reset_index()"
   ]
  },
  {
   "cell_type": "code",
   "execution_count": null,
   "metadata": {},
   "outputs": [
    {
     "name": "stdout",
     "output_type": "stream",
     "text": [
      "Fiction\n"
     ]
    }
   ],
   "source": [
    "from ollama import chat\n",
    "\n",
    "\n",
    "def classify(book_description: str, candidate: str) -> str:\n",
    "    prompt = f\"\"\"\n",
    "You are a highly specialized zero-shot classifier with deep expertise in narrative forms, literary styles, scientific themes, and philosophical explorations.\n",
    "\n",
    "=== TASK ===\n",
    "Analyze the book description below and determine which category best captures its primary focus. Choose one from the available categories.\n",
    "\n",
    "=== BOOK DESCRIPTION ===\n",
    "{book_description}\n",
    "\n",
    "=== AVAILABLE CATEGORIES ===\n",
    "- Fiction\n",
    "- Literary\n",
    "- Science\n",
    "- Philosophy\n",
    "- Intertainment\n",
    "\n",
    "=== PRELIMINARY IMPRESSION ===\n",
    "{candidate}\n",
    "\n",
    "=== REFERENCE EXAMPLES ===\n",
    "- **Fiction:** A narrative set in a fantastical world with imaginative characters and creative storytelling.\n",
    "- **Literary:** A work characterized by poetic language.\n",
    "- **Science:** A text that discusses scientific theories, discoveries, or futuristic innovations.\n",
    "- **Philosophy:** A book that explores deep philosophical questions, ethical dilemmas, or abstract ideas.\n",
    "- **Intertainment:** A lively and engaging story crafted to entertain and amuse.\n",
    "\n",
    "=== INSTRUCTIONS ===\n",
    "1. Read the book description carefully.\n",
    "2. If the Preliminary Impression exactly matches one of the Available Categories, immediately select and return that category.\n",
    "3. Otherwise, evaluate the themes, tone, narrative structure, and any subtle cues in the description.\n",
    "4. Choose the single category that most accurately represents the dominant focus of the book.\n",
    "5. Your final response must contain only the chosen category label (exactly as listed), without any additional commentary or explanation.\n",
    "\n",
    "Your answer:\"\"\"\n",
    "\n",
    "    messages = [\n",
    "        {\n",
    "            \"role\": \"user\",\n",
    "            \"content\": prompt,\n",
    "        },\n",
    "    ]\n",
    "\n",
    "    response = chat(\"llama3.2\", messages=messages)\n",
    "    return response[\"message\"][\"content\"].strip()\n",
    "\n",
    "\n",
    "print(classify(data.description[8], data.categories[8]))"
   ]
  },
  {
   "cell_type": "code",
   "execution_count": 6,
   "metadata": {},
   "outputs": [],
   "source": [
    "top_7 = data[\"categories\"].value_counts().index[:7].tolist()\n",
    "\n",
    "data[\"refined_category\"] = data.apply(\n",
    "    lambda row: (\n",
    "        classify(row[\"description\"], row[\"categories\"])\n",
    "        if row[\"categories\"] not in top_7\n",
    "        else row[\"categories\"]\n",
    "    ),\n",
    "    axis=1,\n",
    ")"
   ]
  },
  {
   "cell_type": "code",
   "execution_count": 11,
   "metadata": {},
   "outputs": [
    {
     "data": {
      "application/vnd.microsoft.datawrangler.viewer.v0+json": {
       "columns": [
        {
         "name": "index",
         "rawType": "int64",
         "type": "integer"
        },
        {
         "name": "refined_category",
         "rawType": "object",
         "type": "string"
        },
        {
         "name": "count",
         "rawType": "int64",
         "type": "integer"
        }
       ],
       "conversionMethod": "pd.DataFrame",
       "ref": "b6e921e1-4ec3-4f30-b7b8-0a615a190eeb",
       "rows": [
        [
         "0",
         "Fiction",
         "2735"
        ],
        [
         "1",
         "Literary",
         "745"
        ],
        [
         "2",
         "Intertainment",
         "460"
        ],
        [
         "3",
         "Science",
         "456"
        ],
        [
         "4",
         "Philosophy",
         "386"
        ],
        [
         "5",
         "Biography",
         "311"
        ],
        [
         "6",
         "Art",
         "104"
        ]
       ],
       "shape": {
        "columns": 2,
        "rows": 7
       }
      },
      "text/html": [
       "<div>\n",
       "<style scoped>\n",
       "    .dataframe tbody tr th:only-of-type {\n",
       "        vertical-align: middle;\n",
       "    }\n",
       "\n",
       "    .dataframe tbody tr th {\n",
       "        vertical-align: top;\n",
       "    }\n",
       "\n",
       "    .dataframe thead th {\n",
       "        text-align: right;\n",
       "    }\n",
       "</style>\n",
       "<table border=\"1\" class=\"dataframe\">\n",
       "  <thead>\n",
       "    <tr style=\"text-align: right;\">\n",
       "      <th></th>\n",
       "      <th>refined_category</th>\n",
       "      <th>count</th>\n",
       "    </tr>\n",
       "  </thead>\n",
       "  <tbody>\n",
       "    <tr>\n",
       "      <th>0</th>\n",
       "      <td>Fiction</td>\n",
       "      <td>2735</td>\n",
       "    </tr>\n",
       "    <tr>\n",
       "      <th>1</th>\n",
       "      <td>Literary</td>\n",
       "      <td>745</td>\n",
       "    </tr>\n",
       "    <tr>\n",
       "      <th>2</th>\n",
       "      <td>Intertainment</td>\n",
       "      <td>460</td>\n",
       "    </tr>\n",
       "    <tr>\n",
       "      <th>3</th>\n",
       "      <td>Science</td>\n",
       "      <td>456</td>\n",
       "    </tr>\n",
       "    <tr>\n",
       "      <th>4</th>\n",
       "      <td>Philosophy</td>\n",
       "      <td>386</td>\n",
       "    </tr>\n",
       "    <tr>\n",
       "      <th>5</th>\n",
       "      <td>Biography</td>\n",
       "      <td>311</td>\n",
       "    </tr>\n",
       "    <tr>\n",
       "      <th>6</th>\n",
       "      <td>Art</td>\n",
       "      <td>104</td>\n",
       "    </tr>\n",
       "  </tbody>\n",
       "</table>\n",
       "</div>"
      ],
      "text/plain": [
       "  refined_category  count\n",
       "0          Fiction   2735\n",
       "1         Literary    745\n",
       "2    Intertainment    460\n",
       "3          Science    456\n",
       "4       Philosophy    386\n",
       "5        Biography    311\n",
       "6              Art    104"
      ]
     },
     "execution_count": 11,
     "metadata": {},
     "output_type": "execute_result"
    }
   ],
   "source": [
    "data[\"refined_category\"].value_counts().reset_index()"
   ]
  },
  {
   "cell_type": "code",
   "execution_count": 12,
   "metadata": {},
   "outputs": [],
   "source": [
    "data.to_csv(\"./data/books_refined.csv\", index=False)"
   ]
  }
 ],
 "metadata": {
  "kernelspec": {
   "display_name": ".venv",
   "language": "python",
   "name": "python3"
  },
  "language_info": {
   "codemirror_mode": {
    "name": "ipython",
    "version": 3
   },
   "file_extension": ".py",
   "mimetype": "text/x-python",
   "name": "python",
   "nbconvert_exporter": "python",
   "pygments_lexer": "ipython3",
   "version": "3.10.5"
  }
 },
 "nbformat": 4,
 "nbformat_minor": 2
}
