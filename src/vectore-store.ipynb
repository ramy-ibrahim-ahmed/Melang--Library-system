{
 "cells": [
  {
   "cell_type": "code",
   "execution_count": null,
   "metadata": {},
   "outputs": [],
   "source": [
    "import pandas as pd\n",
    "\n",
    "data = pd.read_csv(\"../data/books_refined.csv\")"
   ]
  },
  {
   "cell_type": "code",
   "execution_count": 2,
   "metadata": {},
   "outputs": [],
   "source": [
    "documents = list(data.description)\n",
    "ids = [f\"id{i}\" for i in range(1, len(documents) + 1)]\n",
    "\n",
    "metadatas = []\n",
    "for row in data.itertuples():\n",
    "    metadatas.append(\n",
    "        {\n",
    "            \"average_rating\": row.average_rating,\n",
    "            \"ratings_count\": int(row.ratings_count),\n",
    "            \"num_pages\": int(row.num_pages),\n",
    "            \"published_year\": int(row.published_year),\n",
    "            \"title\": row.title_and_subtitle,\n",
    "            \"emotion\": row.emotion,\n",
    "            \"category\": row.refined_category,\n",
    "            \"url\": row.thumbnail,\n",
    "            \"author\": row.authors,\n",
    "        }\n",
    "    )"
   ]
  },
  {
   "cell_type": "code",
   "execution_count": 3,
   "metadata": {},
   "outputs": [
    {
     "data": {
      "text/plain": [
       "{'average_rating': 3.85,\n",
       " 'ratings_count': 361,\n",
       " 'num_pages': 247,\n",
       " 'published_year': 2004,\n",
       " 'title': 'Gilead',\n",
       " 'emotion': 'joy',\n",
       " 'category': 'Fiction',\n",
       " 'url': 'http://books.google.com/books/content?id=KQZCPgAACAAJ&printsec=frontcover&img=1&zoom=1&source=gbs_api',\n",
       " 'author': 'Marilynne Robinson'}"
      ]
     },
     "execution_count": 3,
     "metadata": {},
     "output_type": "execute_result"
    }
   ],
   "source": [
    "metadatas[0]"
   ]
  },
  {
   "cell_type": "code",
   "execution_count": 2,
   "metadata": {},
   "outputs": [],
   "source": [
    "import chromadb\n",
    "\n",
    "client = chromadb.PersistentClient(path=\"./database\")\n",
    "collection = client.get_or_create_collection(\n",
    "    name=\"books\",\n",
    "    metadata={\"hnsw:batch_size\": 10000},\n",
    ")"
   ]
  },
  {
   "cell_type": "code",
   "execution_count": null,
   "metadata": {},
   "outputs": [],
   "source": [
    "import ollama\n",
    "from tqdm import tqdm\n",
    "\n",
    "batch_size = 500\n",
    "\n",
    "for i in tqdm(range(0, len(documents), batch_size), desc=\"Processing Batches\"):\n",
    "\n",
    "    batch_documents = documents[i : i + batch_size]\n",
    "    batch_metadatas = metadatas[i : i + batch_size]\n",
    "    batch_ids = ids[i : i + batch_size]\n",
    "\n",
    "    batch_embeddings = ollama.embed(\n",
    "        model=\"nomic-embed-text\",\n",
    "        input=batch_documents,\n",
    "    ).embeddings\n",
    "\n",
    "    collection.add(\n",
    "        documents=batch_documents,\n",
    "        embeddings=batch_embeddings,\n",
    "        metadatas=batch_metadatas,\n",
    "        ids=batch_ids,\n",
    "    )"
   ]
  },
  {
   "cell_type": "code",
   "execution_count": 6,
   "metadata": {},
   "outputs": [],
   "source": [
    "query = \"A book to teach children about nature.\"\n",
    "query_embeddings = ollama.embed(model=\"nomic-embed-text\", input=query).embeddings"
   ]
  },
  {
   "cell_type": "code",
   "execution_count": 8,
   "metadata": {},
   "outputs": [
    {
     "data": {
      "text/plain": [
       "{'ids': [['id3748', 'id3750', 'id4232']],\n",
       " 'embeddings': None,\n",
       " 'documents': [['Children will discover the exciting world of their own backyard in this introduction to familiar animals from cats and dogs to bugs and frogs. The combination of photographs, illustrations, and fun facts make this an accessible and delightful learning experience.',\n",
       "   \"Introduce your babies to birds, cats, dogs, and babies through fine art, illustration, and photographs. These books are a rare opportunity to expose little ones to a range of images on a single subject, from simple child's drawings and abstract art to playful photos. A brief text accompanies each image, introducing the baby to some basic -- and sometimes playful -- information about the subjects.\",\n",
       "   'This is a book about how we see: the environment around us (its surfaces, their layout, and their colors and textures); where we are in the environment; whether or not we are moving and, if we are, where we are going; what things are good for; how to do things (to thread a needle or drive an automobile); or why things look as they do. The basic assumption is that vision depends on the eye which is connected to the brain. The author suggests that natural vision depends on the eyes in the head on a body supported by the ground, the brain being only the central organ of a complete visual system. When no constraints are put on the visual system, people look around, walk up to something interesting and move around it so as to see it from all sides, and go from one vista to another. That is natural vision -- and what this book is about.']],\n",
       " 'uris': None,\n",
       " 'data': None,\n",
       " 'metadatas': [[{'author': 'Marilyn Singer;Julie Aigner-Clark',\n",
       "    'average_rating': 3.89,\n",
       "    'category': 'Fiction',\n",
       "    'emotion': 'joy',\n",
       "    'num_pages': 16,\n",
       "    'published_year': 2001,\n",
       "    'ratings_count': 180,\n",
       "    'title': 'Baby Einstein: Neighborhood Animals',\n",
       "    'url': 'http://books.google.com/books/content?id=X9a4PAAACAAJ&printsec=frontcover&img=1&zoom=1&source=gbs_api'},\n",
       "   {'author': 'Julie Aigner-Clark',\n",
       "    'average_rating': 4.03,\n",
       "    'category': 'Fiction',\n",
       "    'emotion': 'joy',\n",
       "    'num_pages': 20,\n",
       "    'published_year': 2002,\n",
       "    'ratings_count': 29,\n",
       "    'title': 'Baby Einstein: Babies',\n",
       "    'url': 'http://books.google.com/books/content?id=jv4NAAAACAAJ&printsec=frontcover&img=1&zoom=1&source=gbs_api'},\n",
       "   {'author': 'James Jerome Gibson',\n",
       "    'average_rating': 4.28,\n",
       "    'category': 'Philosophy',\n",
       "    'emotion': 'neutral',\n",
       "    'num_pages': 348,\n",
       "    'published_year': 1986,\n",
       "    'ratings_count': 122,\n",
       "    'title': 'The Ecological Approach to Visual Perception',\n",
       "    'url': 'http://books.google.com/books/content?id=DrhCCWmJpWUC&printsec=frontcover&img=1&zoom=1&edge=curl&source=gbs_api'}]],\n",
       " 'distances': [[0.504322727248723, 0.5883977857722673, 0.6007357426961719]],\n",
       " 'included': [<IncludeEnum.distances: 'distances'>,\n",
       "  <IncludeEnum.documents: 'documents'>,\n",
       "  <IncludeEnum.metadatas: 'metadatas'>]}"
      ]
     },
     "execution_count": 8,
     "metadata": {},
     "output_type": "execute_result"
    }
   ],
   "source": [
    "results = collection.query(\n",
    "    query_embeddings=query_embeddings,\n",
    "    n_results=3,\n",
    "    # where={\"category\": \"Science\"},\n",
    ")\n",
    "results"
   ]
  },
  {
   "cell_type": "code",
   "execution_count": 17,
   "metadata": {},
   "outputs": [],
   "source": [
    "from pydantic import BaseModel\n",
    "\n",
    "\n",
    "class SearchResults(BaseModel):\n",
    "    title: str\n",
    "    description: str\n",
    "    url: str\n",
    "    category: str\n",
    "    tone: str\n",
    "    rating: float\n",
    "    rating_count: int\n",
    "    date: int\n",
    "    pages: int\n",
    "    author: str"
   ]
  },
  {
   "cell_type": "code",
   "execution_count": 19,
   "metadata": {},
   "outputs": [
    {
     "data": {
      "text/plain": [
       "[SearchResults(title='Baby Einstein: Neighborhood Animals', description='Children will discover the exciting world of their own backyard in this introduction to familiar animals from cats and dogs to bugs and frogs. The combination of photographs, illustrations, and fun facts make this an accessible and delightful learning experience.', url='http://books.google.com/books/content?id=X9a4PAAACAAJ&printsec=frontcover&img=1&zoom=1&source=gbs_api', category='Fiction', tone='joy', rating=3.89, rating_count=180, date=2001, pages=16, author='Marilyn Singer;Julie Aigner-Clark'),\n",
       " SearchResults(title='Baby Einstein: Babies', description=\"Introduce your babies to birds, cats, dogs, and babies through fine art, illustration, and photographs. These books are a rare opportunity to expose little ones to a range of images on a single subject, from simple child's drawings and abstract art to playful photos. A brief text accompanies each image, introducing the baby to some basic -- and sometimes playful -- information about the subjects.\", url='http://books.google.com/books/content?id=jv4NAAAACAAJ&printsec=frontcover&img=1&zoom=1&source=gbs_api', category='Fiction', tone='joy', rating=4.03, rating_count=29, date=2002, pages=20, author='Julie Aigner-Clark'),\n",
       " SearchResults(title='The Ecological Approach to Visual Perception', description='This is a book about how we see: the environment around us (its surfaces, their layout, and their colors and textures); where we are in the environment; whether or not we are moving and, if we are, where we are going; what things are good for; how to do things (to thread a needle or drive an automobile); or why things look as they do. The basic assumption is that vision depends on the eye which is connected to the brain. The author suggests that natural vision depends on the eyes in the head on a body supported by the ground, the brain being only the central organ of a complete visual system. When no constraints are put on the visual system, people look around, walk up to something interesting and move around it so as to see it from all sides, and go from one vista to another. That is natural vision -- and what this book is about.', url='http://books.google.com/books/content?id=DrhCCWmJpWUC&printsec=frontcover&img=1&zoom=1&edge=curl&source=gbs_api', category='Philosophy', tone='neutral', rating=4.28, rating_count=122, date=1986, pages=348, author='James Jerome Gibson')]"
      ]
     },
     "execution_count": 19,
     "metadata": {},
     "output_type": "execute_result"
    }
   ],
   "source": [
    "trial = [\n",
    "    SearchResults(\n",
    "        **{\n",
    "            \"title\": results[\"metadatas\"][0][i][\"title\"],\n",
    "            \"url\": results[\"metadatas\"][0][i][\"url\"],\n",
    "            \"category\": results[\"metadatas\"][0][i][\"category\"],\n",
    "            \"tone\": results[\"metadatas\"][0][i][\"emotion\"],\n",
    "            \"rating\": results[\"metadatas\"][0][i][\"average_rating\"],\n",
    "            \"rating_count\": results[\"metadatas\"][0][i][\"ratings_count\"],\n",
    "            \"date\": results[\"metadatas\"][0][i][\"published_year\"],\n",
    "            \"pages\": results[\"metadatas\"][0][i][\"num_pages\"],\n",
    "            \"author\": results[\"metadatas\"][0][i][\"author\"],\n",
    "            \"description\": results[\"documents\"][0][i],\n",
    "        }\n",
    "    )\n",
    "    for i in range(3)\n",
    "]\n",
    "trial"
   ]
  }
 ],
 "metadata": {
  "kernelspec": {
   "display_name": ".venv",
   "language": "python",
   "name": "python3"
  },
  "language_info": {
   "codemirror_mode": {
    "name": "ipython",
    "version": 3
   },
   "file_extension": ".py",
   "mimetype": "text/x-python",
   "name": "python",
   "nbconvert_exporter": "python",
   "pygments_lexer": "ipython3",
   "version": "3.10.5"
  }
 },
 "nbformat": 4,
 "nbformat_minor": 2
}
